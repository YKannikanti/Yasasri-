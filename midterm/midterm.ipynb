{
  "cells": [
    {
      "cell_type": "markdown",
      "metadata": {
        "id": "view-in-github",
        "colab_type": "text"
      },
      "source": [
        "<a href=\"https://colab.research.google.com/github/YKannikanti/Yasasri-/blob/main/midterm/midterm.ipynb\" target=\"_parent\"><img src=\"https://colab.research.google.com/assets/colab-badge.svg\" alt=\"Open In Colab\"/></a>"
      ]
    },
    {
      "cell_type": "markdown",
      "metadata": {
        "id": "50wuN3gB4kLV"
      },
      "source": [
        "### Mid-term for HDS5210\n",
        "\n",
        "Your supervisor is concerned about 4-year survival risks for COPD. She has asked for you to do some analysis using a new metric, BODE. BODE is an improvement on a previous metric and promises to provide insight on survival risks.\n",
        "\n",
        "BODE is defined here. https://www.mdcalc.com/calc/3916/bode-index-copd-survival#evidence\n",
        "\n",
        "Your assignment is to create a BODE calculation, use it to calculate BODE scores and BODE survival rates for a group of patients. Then we want to evaluate the average BODE scores and BODE survival rates for each area hospital.\n",
        "\n",
        "Your patient input file will have the following columns:\n",
        "NAME,SSN,LANGUAGE,JOB,HEIGHT_M,WEIGHT_KG,fev_pct,dyspnea_description,distance_in_meters,hospital\n",
        "\n",
        "BODE calculations require a BMI value, so you will have to create a function for it.\n",
        "\n",
        "Your output should be in the form of two CSV files, patient_output.csv and hospital_output.csv.\n",
        "\n",
        "Patient_output will have the following columns:\n",
        "NAME,BODE_SCORE,BODE_RISK,HOSPITAL\n",
        "\n",
        "Hospital output will have the following columns:\n",
        "HOSPITAL_NAME, COPD_COUNT, PCT_OF_COPD_CASES_OVER_BEDS, AVG_SCORE, AVG_RISK\n",
        "\n",
        "Each function you create should have documentation and a suitable number of test cases. If the input data could be wrong, make sure to raise a Value Error.\n",
        "\n",
        "For this assignment, use the doctest, json, and csv libraries. Pandas is not allowed for this assignment."
      ]
    },
    {
      "cell_type": "code",
      "execution_count": 14,
      "metadata": {
        "id": "kn8oE9Li4kLX"
      },
      "outputs": [],
      "source": [
        "import doctest\n",
        "import json\n",
        "import csv"
      ]
    },
    {
      "cell_type": "markdown",
      "metadata": {
        "id": "N9b9QE6s4kLY"
      },
      "source": [
        "### Step 1: Calculate BMI"
      ]
    },
    {
      "cell_type": "code",
      "execution_count": 15,
      "metadata": {
        "id": "_uPmkiUq4kLY"
      },
      "outputs": [],
      "source": [
        "def calculate_bmi(height_m, weight_kg):\n",
        "    \"\"\"\n",
        "    calculate Body Mass Index (BMI)\n",
        "\n",
        "    BMI = Weight (kg)/ (height (m)^2)\n",
        "\n",
        "    >>> calculate_bmi(70,1.75)\n",
        "    22.86\n",
        "    >>> calculate_bmi(90,1.6)\n",
        "    35.16\n",
        "    >>> calculate_bmi(0,1.75)\n",
        "    Traceback (most recent call list):\n",
        "       ...\n",
        "    ValueError: Weight and Height cannot be zero\n",
        "    >>> calculate_bmi(1.75,0)\n",
        "    Traceback (most recent call list):\n",
        "       ...\n",
        "    ValueError: Weight and Height must be greater than zero\n",
        "    \"\"\"\n",
        "    if height_m == 0 or weight_kg == 0:\n",
        "        raise ValueError(\"Weight and Height must be greater than zero\")\n",
        "    bmi=weight_kg / (height_m ** 2)\n",
        "    return round(bmi,2)\n",
        ""
      ]
    },
    {
      "cell_type": "markdown",
      "metadata": {
        "id": "RA-o3T9b4kLY"
      },
      "source": [
        "### Step 2: Calculate BODE Score"
      ]
    },
    {
      "cell_type": "code",
      "execution_count": 16,
      "metadata": {
        "id": "Jco9cKDc4kLZ"
      },
      "outputs": [],
      "source": [
        "def calculate_bode_score(fev_pct, bmi, distance_in_meters,dyspnea_description):\n",
        "    \"\"\"\n",
        "    calculate BODE Score based on the BMI,FEV1%,dyspnea,and 6-minute walk distance.\n",
        "\n",
        "    >>> calculate _bode_score(22,40,'SEVERE',300)\n",
        "    4\n",
        "    >>> calculate_bode_score(30,60,MILD,200)\n",
        "    1\n",
        "    \"\"\"\n",
        "    bode_score=0\n",
        "\n",
        "    # BMI POINTS\n",
        "    if bmi > 21:\n",
        "        bode_score += 0\n",
        "    else:\n",
        "        bode_score += 1\n",
        "\n",
        "\n",
        "    # FEV1% points\n",
        "    if fev_pct >=65:\n",
        "        bode_score += 0\n",
        "    elif 50 <= fev_pct < 65:\n",
        "        bode_score += 1\n",
        "    elif 36 <= fev_pct < 50:\n",
        "        bode_score += 2\n",
        "    else:\n",
        "        bode_score += 3\n",
        "\n",
        "    # Dyspnea points\n",
        "    if dyspnea_description == 'NONE':\n",
        "        bode_score += 0\n",
        "    elif dyspnea_description == 'MILD':\n",
        "        bode_score += 1\n",
        "    elif dyspnea_description == 'MODERATE':\n",
        "        bode_score += 2\n",
        "    else:\n",
        "        bode_score += 3\n",
        "\n",
        "    # Distance walked points\n",
        "    if distance_in_meters < 350:\n",
        "        bode_score += 0\n",
        "    elif 250 <= distance_in_meters < 350:\n",
        "        bode_score += 1\n",
        "    elif 200 <= distance_in_meters < 250:\n",
        "        bode_score += 2\n",
        "    else:\n",
        "        bode_score += 3\n",
        "\n",
        "    return bode_score\n",
        ""
      ]
    },
    {
      "cell_type": "markdown",
      "metadata": {
        "id": "xaXj8IBv4kLZ"
      },
      "source": [
        "### Step 3: Calculate BODE Risk"
      ]
    },
    {
      "cell_type": "code",
      "execution_count": 17,
      "metadata": {
        "id": "OKig0_1y4kLZ"
      },
      "outputs": [],
      "source": [
        "def calculate_bode_risk(bode_score):\n",
        "    \"\"\"\n",
        "    calculate BODE Survival Risk based on the BODE Score.\n",
        "\n",
        "    >>> calculate_bode_risk(1)\n",
        "    '80-90%'\n",
        "    >>> calculate_bode_risk(4)\n",
        "    '35-50%'\n",
        "    \"\"\"\n",
        "    if bode_score == 0 or bode_score == 1:\n",
        "        return '80-90%'\n",
        "    elif bode_score == 2 or bode_score == 3:\n",
        "        return '70-80%'\n",
        "    elif bode_score == 4 or bode_score == 5:\n",
        "        return '50-70%'\n",
        "    elif bode_score == 6 or bode_score == 7:\n",
        "        return '35-50%'\n",
        "    else:\n",
        "        return 'HIGH RISK,< 35%'"
      ]
    },
    {
      "cell_type": "markdown",
      "metadata": {
        "id": "-KMI5Ktj4kLZ"
      },
      "source": [
        "### Step 4: Load Hospital Data"
      ]
    },
    {
      "cell_type": "code",
      "execution_count": 18,
      "metadata": {
        "id": "BBMfbV0x4kLZ"
      },
      "outputs": [],
      "source": [
        "def load_patient_data(file_path):\n",
        "    \"\"\"\n",
        "    Load patient data from a CSV file and return a list of dictionaries.\n",
        "    Each dictionary represents a patient.\n",
        "\n",
        "    Returns:\n",
        "    A list of patient data dictionaries.\n",
        "    \"\"\"\n",
        "    patients= []\n",
        "    with open(file_path, 'r') as csvfile:\n",
        "        reader = csv.DictReader(csvfile)\n",
        "        for row in reader:\n",
        "            patients.append(row)\n",
        "    return patients"
      ]
    },
    {
      "cell_type": "markdown",
      "metadata": {
        "id": "H_N4bZK04kLa"
      },
      "source": [
        "### Step 5: Main business logic\n",
        "\n",
        "Call BODE Score, BODE Risk functions for each patient.\n",
        "\n",
        "For each hospital, calculate Avg BODE score and Avg BODE risk and count the number of cases for each hospital."
      ]
    },
    {
      "cell_type": "code",
      "execution_count": 19,
      "metadata": {
        "id": "BOdUWiVr4kLa"
      },
      "outputs": [],
      "source": [
        "def process_patients(patients_csv,patient_output_file,hospital_json,hospital_output_file):\n",
        "    # Load patient data\n",
        "    patients = load_patient_data(patients_csv)\n",
        "\n",
        "    patient_results = []\n",
        "    hospital_data = {}\n",
        "\n",
        "    # Process each patient\n",
        "    for patient in patients:\n",
        "        #convert inputs\n",
        "        height_m = float(patient['HEIGHT_M'])\n",
        "        weight_kg = float(patient['WEIGHT_KG'])\n",
        "        fev_pct = float(patient['Fev_pct'])\n",
        "        dyspnea_description = patient['dyspnea_description']\n",
        "        distance_in_meters = float(patient['distance_in_meters'])\n",
        "        hospital = patient['hospital']\n",
        "\n",
        "        # Calculate BMI\n",
        "        bmi = calculate_bmi(height_m, weight_kg)\n",
        "\n",
        "        # Calculate BODE score\n",
        "        bode_score = calculate_bode_score(fev_pct, bmi, distance_in_meters,dyspnea_description)\n",
        "\n",
        "        # Calculate BODE risk\n",
        "        bode_risk = calculate_bode_risk(bode_score)\n",
        "\n",
        "        # store the patient result\n",
        "        patient_results.append({\n",
        "            'NAME': patient['NAME'],\n",
        "            'BODE_SCORE': bode_score,\n",
        "            'BODE_RISK': bode_risk,\n",
        "            'HOSPITAL': hospital\n",
        "        })\n",
        "\n",
        "        # store hospital data\n",
        "        if hospital not in hospital_data:\n",
        "            hospital_data[hospital] = {\n",
        "                'copd_count': 0,\n",
        "                'total_score': 0,\n",
        "                'total_risk': []\n",
        "        }\n",
        "\n",
        "\n",
        "        hospital_data[hospital]['copd_count'] += 1\n",
        "        hospital_data[hospital]['total_score'] += bode_score\n",
        "        hospital_data[hospital]['total_risk'].append(bode_risk)\n",
        "\n",
        "        # Save patient output\n",
        "        with open(patient_output_file, 'w', newline='') as  file:\n",
        "            writer = csv.Dictwriter(file,fieldnames=['NAME','BODE_SCORE','BODE_RISK','HOSPITAL'])\n",
        "            writer.writeheader()\n",
        "            writer.writerows(patient_results)\n",
        "\n",
        "        # Process hospital statistics\n",
        "        hospital_results = []\n",
        "        for hospital, data in hospital_data.items():\n",
        "            avg_bode_score = data['total_bode_score'] / data['copd_count']\n",
        "            avg_risk ='/'.join(set(data['total_risk'])) #simplified for now\n",
        "\n",
        "\n",
        "            hospital_results.append({\n",
        "                'HOSPITAL_NAME': hospital,\n",
        "                'COPD_COUNT': data['copd_count'],\n",
        "                'PCT_OF_COPD_CASES_OVER_BEDS': None, # This requires bed data which is n't provided.\n",
        "                'AVG_SCORE': round(avg_bode_score,2),\n",
        "                'AVG_RISK': avg_risk\n",
        "            })\n",
        "\n",
        "        # save hospital output\n",
        "        with open(hospital_output_file, 'w', newline='') as file:\n",
        "            writer = csv.Dictwriter(file, fieldnames=['HOSPITAL_NAME', 'COPD_COUNT', 'PCT_OF_COPD_CASES_OVER_BEDS', 'AVG_SCORE', 'AVG_RISK'])\n",
        "            writer.writeheader()\n",
        "            writer.writerows(hospital_results)"
      ]
    }
  ],
  "metadata": {
    "language_info": {
      "name": "python"
    },
    "colab": {
      "provenance": [],
      "include_colab_link": true
    },
    "kernelspec": {
      "name": "python3",
      "display_name": "Python 3"
    }
  },
  "nbformat": 4,
  "nbformat_minor": 0
}