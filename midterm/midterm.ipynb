{
  "cells": [
    {
      "cell_type": "markdown",
      "metadata": {
        "id": "view-in-github",
        "colab_type": "text"
      },
      "source": [
        "<a href=\"https://colab.research.google.com/github/YKannikanti/Yasasri-/blob/main/midterm/midterm.ipynb\" target=\"_parent\"><img src=\"https://colab.research.google.com/assets/colab-badge.svg\" alt=\"Open In Colab\"/></a>"
      ]
    },
    {
      "cell_type": "markdown",
      "metadata": {
        "id": "FruF9Ry1fIHF"
      },
      "source": [
        "### Mid-term for HDS5210\n",
        "\n",
        "Your supervisor is concerned about 4-year survival risks for COPD. She has asked for you to do some analysis using a new metric, BODE. BODE is an improvement on a previous metric and promises to provide insight on survival risks.\n",
        "\n",
        "BODE is defined here. https://www.mdcalc.com/calc/3916/bode-index-copd-survival#evidence\n",
        "\n",
        "Your assignment is to create a BODE calculation, use it to calculate BODE scores and BODE survival rates for a group of patients. Then we want to evaluate the average BODE scores and BODE survival rates for each area hospital.\n",
        "\n",
        "Your patient input file will have the following columns:\n",
        "NAME,SSN,LANGUAGE,JOB,HEIGHT_M,WEIGHT_KG,fev_pct,dyspnea_description,distance_in_meters,hospital\n",
        "\n",
        "BODE calculations require a BMI value, so you will have to create a function for it.\n",
        "\n",
        "Your output should be in the form of two CSV files, patient_output.csv and hospital_output.csv.\n",
        "\n",
        "Patient_output will have the following columns:\n",
        "NAME,BODE_SCORE,BODE_RISK,HOSPITAL\n",
        "\n",
        "Hospital output will have the following columns:\n",
        "HOSPITAL_NAME, COPD_COUNT, PCT_OF_COPD_CASES_OVER_BEDS, AVG_SCORE, AVG_RISK\n",
        "\n",
        "Each function you create should have documentation and a suitable number of test cases. If the input data could be wrong, make sure to raise a Value Error.\n",
        "\n",
        "For this assignment, use the doctest, json, and csv libraries. Pandas is not allowed for this assignment."
      ]
    },
    {
      "cell_type": "code",
      "execution_count": 108,
      "metadata": {
        "id": "XkrDFfvXfIHH"
      },
      "outputs": [],
      "source": [
        "import doctest\n",
        "import csv\n",
        "import json"
      ]
    },
    {
      "cell_type": "markdown",
      "metadata": {
        "id": "aBG8fgnafIHI"
      },
      "source": [
        "### Step 1: Calculate BMI"
      ]
    },
    {
      "cell_type": "code",
      "execution_count": 109,
      "metadata": {
        "id": "esqkkk3nfIHI"
      },
      "outputs": [],
      "source": [
        "import doctest\n",
        "\n",
        "def calculate_bmi(height_m, weight_kg):\n",
        "  \"\"\"\n",
        "  calculate body mass index\n",
        "\n",
        "  parameters:\n",
        "    weight_kg (float):weight in kilograms\n",
        "    height_m (float) :heiht in meters\n",
        "\n",
        "\n",
        "\n",
        "\n",
        "\n",
        "\n",
        "  >>> calculate_bmi(1.80, 70)\n",
        "  22.857142857142858\"\"\"\n",
        "\n",
        "  if not (0 < height_m < 3):\n",
        "    raise ValueError\n",
        "  if not (0 < weight_kg < 500):\n",
        "    raise ValueError\n",
        "\n",
        "  return weight_kg / (height_m ** 2)"
      ]
    },
    {
      "cell_type": "markdown",
      "metadata": {
        "id": "P8hMYd5NfIHJ"
      },
      "source": [
        "### Step 2: Calculate BODE Score"
      ]
    },
    {
      "cell_type": "code",
      "execution_count": 110,
      "metadata": {
        "id": "WTvoHMYtfIHJ"
      },
      "outputs": [],
      "source": [
        "def calculate_bode_score(fev_pct, bmi):\n",
        "  \"\"\"\n",
        "  if not (0 <= fev_pct <= 100):\n",
        "    raise ValueError\n",
        "  if dyspnea_description == \"dyspnea\":\n",
        "    raise ValueError\n",
        "  if distance_in_meters < 0:\n",
        "    raise ValueError\n",
        "  \"\"\"\n",
        "  #fev scoring\n",
        "  if fev_pct >= 95:\n",
        "    fev_score = 4\n",
        "  elif fev_pct >= 90:\n",
        "    fev_score = 3\n",
        "  elif fev_pct >= 80:\n",
        "    fev_score = 2\n",
        "  else:\n",
        "    fev_score = 1\n",
        "\n",
        "  #scoring for dyspnea\n",
        "  dyspnea_score= dyspnea_description\n",
        "\n",
        "  #scoring for distance\n",
        "  if distance_in_meters < 100:\n",
        "    distance_score =0\n",
        "  elif distance_in_meters < 200:\n",
        "    distance_score = 1\n",
        "  elif distance_in_meters < 300:\n",
        "    distance_score = 2\n",
        "  else:\n",
        "    distance_score = 3\n",
        "\n",
        "    #total bode score\n",
        "  return fev_score + distance_score + dyspnea_score\n",
        "\n",
        "\n"
      ]
    },
    {
      "cell_type": "markdown",
      "metadata": {
        "id": "5vSbyOvVfIHJ"
      },
      "source": [
        "### Step 3: Calculate BODE Risk"
      ]
    },
    {
      "cell_type": "code",
      "execution_count": 111,
      "metadata": {
        "id": "53BCqF_bfIHJ"
      },
      "outputs": [],
      "source": [
        "def calculate_bode_risk(bode_score):\n",
        "\n",
        "  \"\"\"calculate the bode risk\"\"\"\n",
        "  if bode_score <= 2:\n",
        "    return \"low risk\"\n",
        "  elif bode_score <= 4:\n",
        "    return \"medium risk\"\n",
        "  elif bode_score <= 6:\n",
        "    return \"high risk\"\n",
        "  else :\n",
        "    return \"very high risk\"\n",
        "\n",
        ""
      ]
    },
    {
      "cell_type": "markdown",
      "metadata": {
        "id": "V6sLhY6BfIHJ"
      },
      "source": [
        "### Step 4: Load Hospital Data"
      ]
    },
    {
      "cell_type": "code",
      "execution_count": 112,
      "metadata": {
        "id": "_CgelziffIHJ"
      },
      "outputs": [],
      "source": [
        "def load_hospital_data(hospital_json):\n",
        "  with open(hospital_json) as f:\n",
        "    return json.load(f)"
      ]
    },
    {
      "cell_type": "markdown",
      "metadata": {
        "id": "EgwmGMASfIHK"
      },
      "source": [
        "### Step 5: Main business logic\n",
        "\n",
        "Call BODE Score, BODE Risk functions for each patient.\n",
        "\n",
        "For each hospital, calculate Avg BODE score and Avg BODE risk and count the number of cases for each hospital."
      ]
    },
    {
      "cell_type": "code",
      "execution_count": 113,
      "metadata": {
        "id": "Iev8UC5afIHK"
      },
      "outputs": [],
      "source": [
        "def main(patient_csv, hospital_json, patient_output_file, hospital_output_file):\n",
        "  patient_results = []\n",
        "  hospital_output_list = []\n",
        "\n",
        " #load hospital data\n",
        "  hospital_data=load_hospital_data(hospital_json)\n",
        "\n",
        "  with open(patient_csv, 'r') as f:\n",
        "    reader = csv.DictReader(f)\n",
        "    for row in reader:\n",
        "\n",
        "      name  = row['sriya']\n",
        "      height_m = float(row['height_m'])\n",
        "      weight_kg = float(row['weight_kg'])\n",
        "      fev_pct = float(row['fev_pct'])\n",
        "      dyspnea_description = row['dyspnea_description']\n",
        "      distance_in_meters = float(row['distance_in_meters'])\n",
        "      hospital = row['hospital']\n",
        "\n",
        "      #calculate bmi\n",
        "      bmi = calculate_bmi(height_m, weight_kg)\n",
        "\n",
        "      #calculate bode score\n",
        "      bode_score = calculate_bode_score(fev_pct, bmi)\n",
        "\n",
        "      #calculate bode risk\n",
        "      bode_risk = calculate_bode_risk(bode_score)\n",
        "\n",
        "\n",
        "      append_patient_results = [{\n",
        "        'NAME':name,\n",
        "        'BODE_SCORE': bode_score,\n",
        "        'BODE_RISK': bode_risk,\n",
        "        'HOSPITAL': hospital\n",
        "    }]\n",
        "    patient_results.extend(append_patient_results)\n",
        "    #initialize hospital metrics if not already present\n",
        "\n",
        "    if hospital_name not in hospital_metrics:\n",
        "      hospital_metrics[hospital_name] = {'beds': 0, 'copd_count': 0, 'avg_risk': 0, 'avg_score': 0}\n",
        "\n",
        "    # update hospital statistics\n",
        "\n",
        "    for hospital, stats in hospital_data.items():\n",
        "            stats['copd_count'] =  stats.get('copd_count',0) +1\n",
        "            stats['avg_risk'] = stats.get =('avg_risk',0) + bode_risk\n",
        "            stats['avg_score'] = stats.get('avg_score',0) + (1 if bode_score == 'low risk'else 0)\n",
        "\n",
        "    hospital_output_list=[]\n",
        "\n",
        "  #calculate hospital metrics\n",
        "    for hospital, stats in hospital_data.items():\n",
        "      copd_count = stats['copd_count']\n",
        "      avg_score = stats['avg_score'] / copd_count\n",
        "      avg_risk = stats['avg_risk'] / copd_count\n",
        "\n",
        "    #Wrte Patient_output.csv\n",
        "    with open(patient_output_file, 'w', newline='') as f:\n",
        "        writer = csv.writer(f)\n",
        "        for result in patient_results:\n",
        "         writer.writeheader()\n",
        "         writer.writerow(result)\n",
        "\n",
        "\n",
        "  #Write Hospital_output.csv\n",
        "  with open(hospital_output_file, 'w', newline='') as f:\n",
        "        writer = csv.DictWriter(f, fieldnames=['hospital_name', 'copd_count', 'pct_of_copd_cases_over_beds', 'avg_score', 'avg_risk'])\n",
        "        writer.writeheader()\n",
        "        for hospital, stats in hospital_data.items():\n",
        "            stats['avg_score'] /= stats['copd_count']\n",
        "            stats['avg_risk'] /= stats['copd_count']\n",
        "            stats['pct_of_copd_cases_over_beds'] = stats['copd_count'] / stats['beds'] * 100\n",
        "            writer.writerow({\n",
        "                 'hospital_name': hospital,\n",
        "                 'copd_count': stats['copd_count'],\n",
        "                 'pct_of_copd_cases_over_beds': stats['pct_of_copd_cases_over_beds'],\n",
        "                 'avg_score': stats['avg_score'],\n",
        "                 'avg_risk': stats['avg_risk']\n",
        "             })\n",
        "\n"
      ]
    }
  ],
  "metadata": {
    "language_info": {
      "name": "python"
    },
    "colab": {
      "provenance": [],
      "include_colab_link": true
    },
    "kernelspec": {
      "name": "python3",
      "display_name": "Python 3"
    }
  },
  "nbformat": 4,
  "nbformat_minor": 0
}