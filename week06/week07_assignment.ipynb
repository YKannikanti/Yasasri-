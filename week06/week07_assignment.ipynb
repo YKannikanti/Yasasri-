{
  "cells": [
    {
      "cell_type": "markdown",
      "metadata": {
        "id": "view-in-github",
        "colab_type": "text"
      },
      "source": [
        "<a href=\"https://colab.research.google.com/github/YKannikanti/Yasasri-/blob/main/week06/week07_assignment.ipynb\" target=\"_parent\"><img src=\"https://colab.research.google.com/assets/colab-badge.svg\" alt=\"Open In Colab\"/></a>"
      ]
    },
    {
      "cell_type": "markdown",
      "metadata": {
        "id": "vlmZbPdDDMpI"
      },
      "source": [
        "# Week 7 Assignment\n",
        "\n",
        "We've been working with different types of data structures in Python (dictionary, list, etc), how those are represented in JSON documents, and how to write code to access specific data elements. In this week's assignment, you will need to create your own JSON document to store information about yourself and the grades you've received from week 1 to week 4 and the week 6 quiz.  That is, everything you should have received a grade for.  Then you'll need to show me you know how to navigate the JSON in that file.\n",
        "\n",
        "Different from what we've done in the past, you do not have to write any functions or include any docstrings.  Just create some JSON and write some code.\n",
        "\n",
        "---"
      ]
    },
    {
      "cell_type": "markdown",
      "metadata": {
        "id": "kFoLAPX4DMpK"
      },
      "source": [
        "## 7.1 Create a JSON file\n",
        "\n",
        "Create a JSON file that contains your name, email, year you were born, all of the grades you've received back so far, and a comment about what you thought was most challenging on each of those assignments.  This can be any structure you choose, but make sure it uses a dictionary and a list, and has at least two levels of hierarchy.  That is, it can't just be one big long list."
      ]
    },
    {
      "cell_type": "markdown",
      "metadata": {
        "id": "erky9cliDMpL"
      },
      "source": [
        "First, explain how your data structure is going to look..."
      ]
    },
    {
      "cell_type": "markdown",
      "metadata": {
        "id": "z0pwijxxDMpL"
      },
      "source": [
        "* Put your explanation here in text..."
      ]
    },
    {
      "cell_type": "markdown",
      "metadata": {
        "id": "161XRl2wDMpL"
      },
      "source": [
        "Then put the actual JSON you've created inside the multiline string below..."
      ]
    },
    {
      "cell_type": "code",
      "execution_count": 41,
      "metadata": {
        "id": "RhQDViL7DMpM"
      },
      "outputs": [],
      "source": [
        "hds5210 = \"\"\"\n",
        "{\n",
        "\"personal info\":{\n",
        "    \"name\" : \"abhiram\",\n",
        "     \"email\": \"abhiram.doe@gmail.com\",\n",
        "     \"year of birth\":1996,\n",
        "},\n",
        "  \"assignments\": [\n",
        "    {\n",
        "      \"title\":\"assignment1,\n",
        "      \"grade\":\"A\",\n",
        "      \"challenge\":\"easy\"\n",
        "    },\n",
        "    {\n",
        "      \"title\":\"assignment2\",\n",
        "      \"grade\":\"B\",\n",
        "      \"challenge\":\"difficult to work with\"\n",
        "    },\n",
        "    {\n",
        "      \"title\":\"assignment3\",\n",
        "      \"grade\":\"C\",\n",
        "      \"challenge\":\"hardest part was dubbing the code\"\n",
        "    },\n",
        "    {\n",
        "      \"title\":\"assignment4\",\n",
        "      \"grade\":\"B+\",\n",
        "      \"challenge\":\"very hard\"\n",
        "    },\n",
        "    }\n",
        "  ]\n",
        "}\n",
        "\"\"\""
      ]
    },
    {
      "cell_type": "markdown",
      "metadata": {
        "id": "IRymYc4zDMpN"
      },
      "source": [
        "## 7.2 Do something with your JSON\n",
        "\n",
        "Now use Python code to do something with the Json above.  Turn it into English text, but make sure that you use at least one loop to access some dict or list content of your JSON.  Below, I've provided some basic code to read in the string above as JSON and return a Python object.  Your job is to work with that data structure and print out the important information like your name, email, and how you did on each assignment."
      ]
    },
    {
      "cell_type": "code",
      "execution_count": 40,
      "metadata": {
        "colab": {
          "base_uri": "https://localhost:8080/"
        },
        "id": "YNF5s2CnDMpN",
        "outputId": "c128f50a-3446-4929-9e3c-699c516b76f7"
      },
      "outputs": [
        {
          "output_type": "stream",
          "name": "stdout",
          "text": [
            "name:abhiram\n",
            "email:abhiram@gmail.com\n",
            "year of birth:1996\n",
            "grades:\n",
            "week:1,grade:{'week': '1', 'grade': '10', 'challenge': 'I created the account'},challenge:I created the account\n",
            "week:2,grade:{'week': '2', 'grade': '8', 'challenge': 'felt very hard in the beginning'},challenge:felt very hard in the beginning\n",
            "week:3,grade:{'week': '3', 'grade': '9', 'challenge': 'understood the basics of work'},challenge:understood the basics of work\n",
            "week:4,grade:{'week': '4', 'grade': '7', 'challenge': 'learned the topics'},challenge:learned the topics\n",
            "week:5,grade:{'week': '5', 'grade': '9', 'challenge': 'solved the quiz'},challenge:solved the quiz\n"
          ]
        }
      ],
      "source": [
        "import json\n",
        "hds_5210=\"\"\"\n",
        "{\n",
        "  \"personal info\": {\n",
        "    \"name\": \"abhiram\",\n",
        "    \"email\": \"abhiram@gmail.com\",\n",
        "    \"year of birth\":1996\n",
        "  },\n",
        "  \"grades\": [\n",
        "    {\n",
        "      \"week\":\"1\",\n",
        "      \"grade\":\"10\",\n",
        "      \"challenge\":\"I created the account\"\n",
        "    },\n",
        "    {\n",
        "      \"week\":\"2\",\n",
        "      \"grade\":\"8\",\n",
        "      \"challenge\":\"felt very hard in the beginning\"\n",
        "    },\n",
        "    {\n",
        "      \"week\":\"3\",\n",
        "      \"grade\":\"9\",\n",
        "      \"challenge\":\"understood the basics of work\"\n",
        "    },\n",
        "    {\n",
        "      \"week\":\"4\",\n",
        "      \"grade\":\"7\",\n",
        "      \"challenge\":\"learned the topics\"\n",
        "    },\n",
        "    {\n",
        "      \"week\":\"5\",\n",
        "      \"grade\":\"9\",\n",
        "      \"challenge\":\"solved the quiz\"\n",
        "      }\n",
        "    ]\n",
        "  }\n",
        "  \"\"\"\n",
        "\n",
        "info = json.loads(hds_5210)\n",
        "\n",
        "name= info[\"personal info\"][\"name\"]\n",
        "email= info[\"personal info\"][\"email\"]\n",
        "year_of_birth= info[\"personal info\"][\"year of birth\"]\n",
        "\n",
        "\n",
        "grades_summary=[]\n",
        "\n",
        "for grade in info[\"grades\"]:\n",
        "    week= grade[\"week\"]\n",
        "    grade_value = grade[\"grade\"]\n",
        "    challenge = grade[\"challenge\"]\n",
        "    grades_summary.append(f\"week:{week},grade:{grade},challenge:{challenge}\")\n",
        "\n",
        "grade_paragraph = \"\\n\".join(grades_summary)\n",
        "\n",
        "result =f\"name:{name}\\nemail:{email}\\nyear of birth:{year_of_birth}\\ngrades:\\n{grade_paragraph}\"\n",
        "print(result)\n",
        "\n"
      ]
    },
    {
      "cell_type": "markdown",
      "metadata": {
        "id": "F29x_8UADMpN"
      },
      "source": [
        "## 7.3 Reflect\n",
        "\n",
        "Write a paragraph on any reflections you have. Was this hard? Easy?  What parts were most challenging or easiest? What did you like or dislike about the assignment?  Share whatever important thoughts you have abou this assignment."
      ]
    },
    {
      "cell_type": "markdown",
      "source": [
        "My name is abhiram,i was born in 1996 and my mail.id is abhiram@gmail.com\n",
        "\n",
        "gradess\n",
        "my grades were the milestone of my journey..i fell and i rise again,it is like a rollercoaster but i didnt give up,i like everything about the assignment and i felt it very easy at the end.\n",
        "Eventually i performed well in the assignments."
      ],
      "metadata": {
        "id": "o7p4LYjpmO22"
      }
    },
    {
      "cell_type": "code",
      "source": [],
      "metadata": {
        "id": "VPhTrWwkmOiy"
      },
      "execution_count": null,
      "outputs": []
    },
    {
      "cell_type": "markdown",
      "metadata": {
        "id": "pDIsHpoYDMpO"
      },
      "source": [
        "* **** Put your response here"
      ]
    },
    {
      "cell_type": "markdown",
      "metadata": {
        "id": "EeZy4p-WDMpO"
      },
      "source": [
        "---\n",
        "\n",
        "# Example\n",
        "\n",
        "Below is an example of something similar, but this uses information my and my friend's kids instead of grades."
      ]
    },
    {
      "cell_type": "code",
      "execution_count": null,
      "metadata": {
        "id": "mlR4JZqhDMpO",
        "outputId": "2c7c0f45-1aed-4295-fc38-c22e03da80eb"
      },
      "outputs": [
        {
          "name": "stdout",
          "output_type": "stream",
          "text": [
            "Hi, my name is Paul. I've got 3 kids. Their names are Ellie, Ada, Teddy.\n",
            "My friend, Anny has 1 kids. That's fewer than me. Their names are 1\n"
          ]
        }
      ],
      "source": [
        "hds5210 = \"\"\"\n",
        "{\n",
        "    \"me\": {\n",
        "        \"name\": \"Paul\",\n",
        "        \"kids\": [\"Ellie\", \"Ada\", \"Teddy\"]\n",
        "    },\n",
        "    \"friend\": {\n",
        "        \"name\": \"Anny\",\n",
        "        \"kids\": [\"Abby\"]\n",
        "    }\n",
        "}\n",
        "\"\"\"\n",
        "\n",
        "import json\n",
        "\n",
        "info = json.loads(hds5210)\n",
        "\n",
        "me = info[\"me\"][\"name\"]\n",
        "my_kids_count = len(info[\"me\"][\"kids\"])\n",
        "kids_list = \", \".join(info[\"me\"][\"kids\"])\n",
        "friend = info[\"friend\"][\"name\"]\n",
        "friends_kid_count = len(info[\"friend\"][\"kids\"])\n",
        "friend_kids = \", \".join(info[\"friend\"][\"kids\"])\n",
        "compare = \"more\" if friends_kid_count > my_kids_count else \"fewer\"\n",
        "\n",
        "print(f\"Hi, my name is {me}. I've got {my_kids_count} kids. Their names are {kids_list}.\")\n",
        "print(f\"My friend, {friend} has {friends_kid_count} kids. That's {compare} than me. Their names are {friends_kid_count}\")"
      ]
    }
  ],
  "metadata": {
    "kernelspec": {
      "display_name": "Python 3",
      "language": "python",
      "name": "python3"
    },
    "language_info": {
      "codemirror_mode": {
        "name": "ipython",
        "version": 3
      },
      "file_extension": ".py",
      "mimetype": "text/x-python",
      "name": "python",
      "nbconvert_exporter": "python",
      "pygments_lexer": "ipython3",
      "version": "3.9.16"
    },
    "colab": {
      "provenance": [],
      "include_colab_link": true
    }
  },
  "nbformat": 4,
  "nbformat_minor": 0
}