{
  "cells": [
    {
      "cell_type": "markdown",
      "metadata": {
        "id": "9KdIVECOofQA"
      },
      "source": [
        "### Default Parameters\n",
        "Nurses usually take a patient's heart beat for 15 seconds. Use a default argument to set the number of seconds in the following function.\n",
        "\n",
        "How does that change the number of parameters in the function call?"
      ]
    },
    {
      "cell_type": "code",
      "execution_count": 3,
      "metadata": {
        "vscode": {
          "languageId": "plaintext"
        },
        "id": "_AYL3DnpofQB",
        "outputId": "67a7856b-f341-4014-93e9-a36c4e1312e2",
        "colab": {
          "base_uri": "https://localhost:8080/"
        }
      },
      "outputs": [
        {
          "output_type": "execute_result",
          "data": {
            "text/plain": [
              "80.0"
            ]
          },
          "metadata": {},
          "execution_count": 3
        }
      ],
      "source": [
        "#Set a default value for seconds\n",
        "def heart_beat_per_minute(beats, seconds) :\n",
        "    multiplier = 60 / seconds\n",
        "    return beats * multiplier\n",
        "\n",
        "#Change this function call\n",
        "heart_beat_per_minute(20, 15)"
      ]
    },
    {
      "cell_type": "code",
      "execution_count": 14,
      "metadata": {
        "vscode": {
          "languageId": "plaintext"
        },
        "id": "XkKjcXOZofQB"
      },
      "outputs": [],
      "source": [
        "#Which of these function calls do you need to change?\n",
        "\n",
        "assert(heart_beat_per_minute(20, 15) == 80)\n",
        "assert(heart_beat_per_minute(20, 20) == 60)"
      ]
    },
    {
      "cell_type": "markdown",
      "metadata": {
        "id": "Vr9U3jVKofQB"
      },
      "source": [
        "### Named Arguments\n",
        "Use named arguments in the function call to specify number of seconds first and beats second."
      ]
    },
    {
      "cell_type": "code",
      "execution_count": 15,
      "metadata": {
        "vscode": {
          "languageId": "plaintext"
        },
        "id": "QA3W5dn2ofQB",
        "outputId": "55012453-a398-4d3e-aa7c-ac0a5e012460",
        "colab": {
          "base_uri": "https://localhost:8080/"
        }
      },
      "outputs": [
        {
          "output_type": "execute_result",
          "data": {
            "text/plain": [
              "80.0"
            ]
          },
          "metadata": {},
          "execution_count": 15
        }
      ],
      "source": [
        "# Use named arguments\n",
        "heart_beat_per_minute(20, 15)"
      ]
    },
    {
      "cell_type": "markdown",
      "metadata": {
        "id": "oI_iasDQofQC"
      },
      "source": [
        "### Arbitary List\n",
        "Use an arbitary list parameter to create a list that looks like \"First Last\""
      ]
    },
    {
      "cell_type": "code",
      "execution_count": 12,
      "metadata": {
        "vscode": {
          "languageId": "plaintext"
        },
        "id": "o5VTLCrDofQC"
      },
      "outputs": [],
      "source": [
        "def combine_names(last, *firsts ) :\n",
        "    names = []\n",
        "\n",
        "    # Do something\n",
        "    for firsts in firsts :\n",
        "        names.append(firsts + \" \" + last)\n",
        "\n",
        "    return names"
      ]
    },
    {
      "cell_type": "code",
      "execution_count": 13,
      "metadata": {
        "vscode": {
          "languageId": "plaintext"
        },
        "id": "rT8UGzxMofQC"
      },
      "outputs": [],
      "source": [
        "expected = [\"Mickey Mouse\", \"Minnie Mouse\", \"Mighty Mouse\"]\n",
        "assert(combine_names(\"Mouse\", \"Mickey\", \"Minnie\", \"Mighty\") == expected)\n",
        ""
      ]
    }
  ],
  "metadata": {
    "kernelspec": {
      "display_name": "Python 3",
      "language": "python",
      "name": "python3"
    },
    "language_info": {
      "codemirror_mode": {
        "name": "ipython",
        "version": 3
      },
      "file_extension": ".py",
      "mimetype": "text/x-python",
      "name": "python",
      "nbconvert_exporter": "python",
      "pygments_lexer": "ipython3",
      "version": "3.10.11"
    },
    "colab": {
      "provenance": []
    }
  },
  "nbformat": 4,
  "nbformat_minor": 0
}