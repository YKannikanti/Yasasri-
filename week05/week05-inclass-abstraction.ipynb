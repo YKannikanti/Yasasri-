{
  "cells": [
    {
      "cell_type": "markdown",
      "metadata": {
        "id": "view-in-github",
        "colab_type": "text"
      },
      "source": [
        "<a href=\"https://colab.research.google.com/github/YKannikanti/Yasasri-/blob/main/week05/week05-inclass-abstraction.ipynb\" target=\"_parent\"><img src=\"https://colab.research.google.com/assets/colab-badge.svg\" alt=\"Open In Colab\"/></a>"
      ]
    },
    {
      "cell_type": "code",
      "execution_count": 3,
      "metadata": {
        "id": "TITCpLcPwwP5"
      },
      "outputs": [],
      "source": [
        "import doctest\n",
        "from datetime import date\n",
        "my_encounters = {\n",
        "    \"E1234\": { \"admit\": date(2019,1,3), \"diagnosis\": \"COPD\", \"discharge\": date(2019,1,8) },\n",
        "    \"E8342\": { \"admit\": date(2019,1,5), \"diagnosis\": \"Hypertension\", \"discharge\": date(2019,1,9) },\n",
        "    \"E9231\": { \"admit\": date(2019,1,12), \"diagnosis\": \"Anxiety\", \"discharge\": date(2019,1,13) },\n",
        "    \"E8333\": { \"admit\": date(2019,1,15), \"diagnosis\": \"Observation\", \"discharge\": date(2019,1,16) },\n",
        "    \"E3342\": { \"admit\": date(2019,1,4), \"diagnosis\": \"Anxiety\", \"discharge\": date(2019,1,4)}\n",
        "}\n",
        "\n",
        "def los(admit, discharge) :\n",
        "    \"\"\"(date, date) -> int\n",
        "    Returns length of stay based on standard rules\n",
        "\n",
        "    >>> los(date(2019,1,3), date(2019,1,8))\n",
        "    5\n",
        "    \"\"\"\n",
        "    return (discharge - admit).days\n",
        "\n",
        "def average_los(encounters) :\n",
        "    \"\"\"(dict) -> float\n",
        "    Compute the average length of stay over all visits\n",
        "\n",
        "    >>> average_los({\"E8342\": { \"admit\": date(2019,1,5), \"diagnosis\": \"Hypertension\", \"discharge\": date(2019,1,10) },\"E8333\": { \"admit\": date(2019,1,15), \"diagnosis\": \"Observation\", \"discharge\": date(2019,1,16) },\"E3342\": { \"admit\": date(2019,1,4), \"diagnosis\": \"Anxiety\", \"discharge\": date(2019,1,4)}})\n",
        "    2.0\n",
        "    \"\"\"\n",
        "    total_los =0\n",
        "    total_encounters = len(encounters)\n",
        "\n",
        "    if total_encounters == 0 :\n",
        "        return 0\n",
        "\n",
        "    for encounter in encounters.values() :\n",
        "        total_los += los(encounter[\"admit\"], encounter[\"discharge\"])\n",
        "\n",
        "    return total_los/total_encounters\n"
      ]
    },
    {
      "cell_type": "code",
      "execution_count": 4,
      "metadata": {
        "id": "YxDMRm5swwP8",
        "outputId": "9d27500e-2725-4b37-ff12-e4cde5d3bc5c",
        "colab": {
          "base_uri": "https://localhost:8080/"
        }
      },
      "outputs": [
        {
          "output_type": "stream",
          "name": "stdout",
          "text": [
            "Finding tests in NoName\n",
            "Trying:\n",
            "    los(date(2019,1,3), date(2019,1,8))\n",
            "Expecting:\n",
            "    5\n",
            "ok\n",
            "Finding tests in NoName\n",
            "Trying:\n",
            "    average_los({\"E8342\": { \"admit\": date(2019,1,5), \"diagnosis\": \"Hypertension\", \"discharge\": date(2019,1,10) },\"E8333\": { \"admit\": date(2019,1,15), \"diagnosis\": \"Observation\", \"discharge\": date(2019,1,16) },\"E3342\": { \"admit\": date(2019,1,4), \"diagnosis\": \"Anxiety\", \"discharge\": date(2019,1,4)}})\n",
            "Expecting:\n",
            "    2.0\n",
            "ok\n"
          ]
        }
      ],
      "source": [
        "doctest.run_docstring_examples(los, globals(), verbose=True)\n",
        "doctest.run_docstring_examples(average_los, globals(), verbose=True)"
      ]
    },
    {
      "cell_type": "markdown",
      "metadata": {
        "id": "ddI2nCjFwwP9"
      },
      "source": [
        "### Abstraction\n",
        "\n",
        "Your supervisor has asked you to implement a new rule that patients with a diagnosis of observation should have a LOS of 0.\n",
        "Patients with a LOS of 0 should not be counted towards the average LOS.\n",
        "\n",
        "Change the code above to implement these rules"
      ]
    }
  ],
  "metadata": {
    "kernelspec": {
      "display_name": "Python 3",
      "language": "python",
      "name": "python3"
    },
    "language_info": {
      "codemirror_mode": {
        "name": "ipython",
        "version": 3
      },
      "file_extension": ".py",
      "mimetype": "text/x-python",
      "name": "python",
      "nbconvert_exporter": "python",
      "pygments_lexer": "ipython3",
      "version": "3.10.11"
    },
    "colab": {
      "provenance": [],
      "include_colab_link": true
    }
  },
  "nbformat": 4,
  "nbformat_minor": 0
}