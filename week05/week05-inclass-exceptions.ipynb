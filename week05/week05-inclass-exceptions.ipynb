{
  "cells": [
    {
      "cell_type": "markdown",
      "metadata": {
        "id": "view-in-github",
        "colab_type": "text"
      },
      "source": [
        "<a href=\"https://colab.research.google.com/github/YKannikanti/Yasasri-/blob/main/week05/week05-inclass-exceptions.ipynb\" target=\"_parent\"><img src=\"https://colab.research.google.com/assets/colab-badge.svg\" alt=\"Open In Colab\"/></a>"
      ]
    },
    {
      "cell_type": "code",
      "execution_count": 29,
      "metadata": {
        "id": "LIqpYTNh2GUj"
      },
      "outputs": [],
      "source": [
        "### Change this function to raise Value Errors for the Invalid respiratory rate, Invalid Pulse OX, and Invalid 02 Flow Rate\n",
        "\n",
        "def qcsi(respiratory_rate, pulse_ox, o2_flow):\n",
        "    \"\"\"(int, int, int) -> str\n",
        "    * respiratory_rate is an integer value\n",
        "    * pulse_ox is an integer value (e.g. 30 means 30%)\n",
        "    * o2_flow is an integer value\n",
        "    \"\"\"\n",
        "\n",
        "    ### BEGIN SOLUTION\n",
        "\n",
        "    resp_score = 0\n",
        "    if respiratory_rate <= 0 :\n",
        "        risk = \"invalid respiratory rate\"\n",
        "        return risk\n",
        "        raise valueError (I)\n",
        "    if respiratory_rate >= 23 and respiratory_rate <=28 :\n",
        "        resp_score = 1\n",
        "    elif respiratory_rate > 28 :\n",
        "        resp_score = 2\n",
        "\n",
        "    pulse_ox_score = 0\n",
        "    if pulse_ox <= 0 or pulse_ox > 100:\n",
        "        risk = \"invalid pulse ox\"\n",
        "        return risk\n",
        "        #value error\n",
        "    if (pulse_ox >= 89 and pulse_ox <= 92) :\n",
        "        pulse_ox_score =2\n",
        "    elif (pulse_ox <=88) :\n",
        "        pulse_ox_score = 5\n",
        "\n",
        "    o2_score = 0\n",
        "    if o2_flow <= 0 :\n",
        "        risk = \"invalid O2 flow rate\"\n",
        "        return risk\n",
        "        #value error\n",
        "\n",
        "    if (o2_flow == 3 or o2_flow == 4) :\n",
        "        o2_score = 4\n",
        "    elif (o2_flow  == 5 or o2_flow == 6) :\n",
        "        o2_score = 5\n",
        "\n",
        "    score = resp_score + pulse_ox_score + o2_score\n",
        "    if score <= 3 :\n",
        "        risk = \"low\"\n",
        "        #value error\n",
        "    elif score >=4 and score <= 6 :\n",
        "        risk = \"low-intermediate\"\n",
        "    elif score >=7 and score <= 9 :\n",
        "        risk = \"high-intermediate\"\n",
        "    elif score >=10 and score <= 12 :\n",
        "        risk = \"high\"\n",
        "\n",
        "    ### END SOLUTION\n",
        "\n",
        "    return risk"
      ]
    },
    {
      "cell_type": "code",
      "execution_count": 25,
      "metadata": {
        "id": "CZRDc41v55ro"
      },
      "outputs": [],
      "source": [
        "### Change this function to raise Value Errors for the Invalid respiratory rate, Invalid Pulse OX, and Invalid 02 Flow Rate\n",
        "\n",
        "def qcsi(respiratory_rate, pulse_ox, o2_flow):\n",
        "    \"\"\"(int, int, int) -> str\n",
        "    * respiratory_rate is an integer value\n",
        "    * pulse_ox is an integer value (e.g. 30 means 30%)\n",
        "    * o2_flow is an integer value\n",
        "    \"\"\"\n",
        "\n",
        "    ### BEGIN SOLUTION\n",
        "\n",
        "    resp_score = 0\n",
        "    if respiratory_rate <= 0 :\n",
        "        raise ValueError (\"invalid respiratory rate\")\n",
        "    if respiratory_rate >= 23 and respiratory_rate <=28 :\n",
        "        resp_score = 1\n",
        "    elif respiratory_rate > 28 :\n",
        "        resp_score = 2\n",
        "\n",
        "    pulse_ox_score = 0\n",
        "    if pulse_ox <= 0 or pulse_ox > 100:\n",
        "        raise ValueError (\"invalid pulse ox\")\n",
        "    if (pulse_ox >= 89 and pulse_ox <= 92) :\n",
        "        pulse_ox_score =2\n",
        "    elif (pulse_ox <=88) :\n",
        "        pulse_ox_score = 5\n",
        "\n",
        "    o2_score = 0\n",
        "    if o2_flow <= 0 :\n",
        "        raise ValueError (\"invalid O2 flow rate\")\n",
        "\n",
        "    if (o2_flow == 3 or o2_flow == 4) :\n",
        "        o2_score = 4\n",
        "    elif (o2_flow  == 5 or o2_flow == 6) :\n",
        "        o2_score = 5\n",
        "\n",
        "    score = resp_score + pulse_ox_score + o2_score\n",
        "    if score <= 3 :\n",
        "        risk = \"low\"\n",
        "    elif score >=4 and score <= 6 :\n",
        "        risk = \"low-intermediate\"\n",
        "    elif score >=7 and score <= 9 :\n",
        "        risk = \"high-intermediate\"\n",
        "    elif score >=10 and score <= 12 :\n",
        "        risk = \"high\"\n",
        "\n",
        "    ### END SOLUTION\n",
        "\n",
        "    return risk"
      ]
    },
    {
      "cell_type": "code",
      "execution_count": 26,
      "metadata": {
        "id": "ZaYmQKl12GUl",
        "outputId": "3937b32e-8cfb-41d8-c203-994e0d4be061",
        "colab": {
          "base_uri": "https://localhost:8080/",
          "height": 263
        }
      },
      "outputs": [
        {
          "output_type": "error",
          "ename": "ValueError",
          "evalue": "invalid O2 flow rate",
          "traceback": [
            "\u001b[0;31m---------------------------------------------------------------------------\u001b[0m",
            "\u001b[0;31mValueError\u001b[0m                                Traceback (most recent call last)",
            "\u001b[0;32m<ipython-input-26-06cdaa71967c>\u001b[0m in \u001b[0;36m<cell line: 1>\u001b[0;34m()\u001b[0m\n\u001b[0;32m----> 1\u001b[0;31m \u001b[0mqcsi\u001b[0m\u001b[0;34m(\u001b[0m\u001b[0;36m2\u001b[0m\u001b[0;34m,\u001b[0m \u001b[0;36m3\u001b[0m\u001b[0;34m,\u001b[0m \u001b[0;34m-\u001b[0m\u001b[0;36m99\u001b[0m\u001b[0;34m)\u001b[0m\u001b[0;34m\u001b[0m\u001b[0;34m\u001b[0m\u001b[0m\n\u001b[0m",
            "\u001b[0;32m<ipython-input-25-2993eec7cdde>\u001b[0m in \u001b[0;36mqcsi\u001b[0;34m(respiratory_rate, pulse_ox, o2_flow)\u001b[0m\n\u001b[1;32m     28\u001b[0m     \u001b[0mo2_score\u001b[0m \u001b[0;34m=\u001b[0m \u001b[0;36m0\u001b[0m\u001b[0;34m\u001b[0m\u001b[0;34m\u001b[0m\u001b[0m\n\u001b[1;32m     29\u001b[0m     \u001b[0;32mif\u001b[0m \u001b[0mo2_flow\u001b[0m \u001b[0;34m<=\u001b[0m \u001b[0;36m0\u001b[0m \u001b[0;34m:\u001b[0m\u001b[0;34m\u001b[0m\u001b[0;34m\u001b[0m\u001b[0m\n\u001b[0;32m---> 30\u001b[0;31m         \u001b[0;32mraise\u001b[0m \u001b[0mValueError\u001b[0m \u001b[0;34m(\u001b[0m\u001b[0;34m\"invalid O2 flow rate\"\u001b[0m\u001b[0;34m)\u001b[0m\u001b[0;34m\u001b[0m\u001b[0;34m\u001b[0m\u001b[0m\n\u001b[0m\u001b[1;32m     31\u001b[0m \u001b[0;34m\u001b[0m\u001b[0m\n\u001b[1;32m     32\u001b[0m     \u001b[0;32mif\u001b[0m \u001b[0;34m(\u001b[0m\u001b[0mo2_flow\u001b[0m \u001b[0;34m==\u001b[0m \u001b[0;36m3\u001b[0m \u001b[0;32mor\u001b[0m \u001b[0mo2_flow\u001b[0m \u001b[0;34m==\u001b[0m \u001b[0;36m4\u001b[0m\u001b[0;34m)\u001b[0m \u001b[0;34m:\u001b[0m\u001b[0;34m\u001b[0m\u001b[0;34m\u001b[0m\u001b[0m\n",
            "\u001b[0;31mValueError\u001b[0m: invalid O2 flow rate"
          ]
        }
      ],
      "source": [
        "qcsi(2, 3, -99)"
      ]
    },
    {
      "cell_type": "code",
      "execution_count": 27,
      "metadata": {
        "id": "KK3XvwLT2GUl",
        "outputId": "7d76e445-809a-4038-a465-b2cb6fe043e6",
        "colab": {
          "base_uri": "https://localhost:8080/",
          "height": 263
        }
      },
      "outputs": [
        {
          "output_type": "error",
          "ename": "ValueError",
          "evalue": "invalid O2 flow rate",
          "traceback": [
            "\u001b[0;31m---------------------------------------------------------------------------\u001b[0m",
            "\u001b[0;31mValueError\u001b[0m                                Traceback (most recent call last)",
            "\u001b[0;32m<ipython-input-27-a59fce2bb285>\u001b[0m in \u001b[0;36m<cell line: 1>\u001b[0;34m()\u001b[0m\n\u001b[0;32m----> 1\u001b[0;31m \u001b[0mqcsi\u001b[0m\u001b[0;34m(\u001b[0m\u001b[0;36m24\u001b[0m\u001b[0;34m,\u001b[0m \u001b[0;36m99\u001b[0m\u001b[0;34m,\u001b[0m \u001b[0;34m-\u001b[0m\u001b[0;36m99\u001b[0m\u001b[0;34m)\u001b[0m\u001b[0;34m\u001b[0m\u001b[0;34m\u001b[0m\u001b[0m\n\u001b[0m",
            "\u001b[0;32m<ipython-input-25-2993eec7cdde>\u001b[0m in \u001b[0;36mqcsi\u001b[0;34m(respiratory_rate, pulse_ox, o2_flow)\u001b[0m\n\u001b[1;32m     28\u001b[0m     \u001b[0mo2_score\u001b[0m \u001b[0;34m=\u001b[0m \u001b[0;36m0\u001b[0m\u001b[0;34m\u001b[0m\u001b[0;34m\u001b[0m\u001b[0m\n\u001b[1;32m     29\u001b[0m     \u001b[0;32mif\u001b[0m \u001b[0mo2_flow\u001b[0m \u001b[0;34m<=\u001b[0m \u001b[0;36m0\u001b[0m \u001b[0;34m:\u001b[0m\u001b[0;34m\u001b[0m\u001b[0;34m\u001b[0m\u001b[0m\n\u001b[0;32m---> 30\u001b[0;31m         \u001b[0;32mraise\u001b[0m \u001b[0mValueError\u001b[0m \u001b[0;34m(\u001b[0m\u001b[0;34m\"invalid O2 flow rate\"\u001b[0m\u001b[0;34m)\u001b[0m\u001b[0;34m\u001b[0m\u001b[0;34m\u001b[0m\u001b[0m\n\u001b[0m\u001b[1;32m     31\u001b[0m \u001b[0;34m\u001b[0m\u001b[0m\n\u001b[1;32m     32\u001b[0m     \u001b[0;32mif\u001b[0m \u001b[0;34m(\u001b[0m\u001b[0mo2_flow\u001b[0m \u001b[0;34m==\u001b[0m \u001b[0;36m3\u001b[0m \u001b[0;32mor\u001b[0m \u001b[0mo2_flow\u001b[0m \u001b[0;34m==\u001b[0m \u001b[0;36m4\u001b[0m\u001b[0;34m)\u001b[0m \u001b[0;34m:\u001b[0m\u001b[0;34m\u001b[0m\u001b[0;34m\u001b[0m\u001b[0m\n",
            "\u001b[0;31mValueError\u001b[0m: invalid O2 flow rate"
          ]
        }
      ],
      "source": [
        "qcsi(24, 99, -99)"
      ]
    },
    {
      "cell_type": "code",
      "execution_count": 28,
      "metadata": {
        "id": "5Rnxzsbx2GUl",
        "outputId": "366eb2e7-e97c-4939-c2f6-354d659c0be1",
        "colab": {
          "base_uri": "https://localhost:8080/",
          "height": 263
        }
      },
      "outputs": [
        {
          "output_type": "error",
          "ename": "ValueError",
          "evalue": "invalid respiratory rate",
          "traceback": [
            "\u001b[0;31m---------------------------------------------------------------------------\u001b[0m",
            "\u001b[0;31mValueError\u001b[0m                                Traceback (most recent call last)",
            "\u001b[0;32m<ipython-input-28-b8b457cd9f80>\u001b[0m in \u001b[0;36m<cell line: 1>\u001b[0;34m()\u001b[0m\n\u001b[0;32m----> 1\u001b[0;31m \u001b[0mqcsi\u001b[0m\u001b[0;34m(\u001b[0m\u001b[0;34m-\u001b[0m\u001b[0;36m24\u001b[0m\u001b[0;34m,\u001b[0m \u001b[0;36m2\u001b[0m\u001b[0;34m,\u001b[0m \u001b[0;36m1000\u001b[0m\u001b[0;34m)\u001b[0m\u001b[0;34m\u001b[0m\u001b[0;34m\u001b[0m\u001b[0m\n\u001b[0m",
            "\u001b[0;32m<ipython-input-25-2993eec7cdde>\u001b[0m in \u001b[0;36mqcsi\u001b[0;34m(respiratory_rate, pulse_ox, o2_flow)\u001b[0m\n\u001b[1;32m     12\u001b[0m     \u001b[0mresp_score\u001b[0m \u001b[0;34m=\u001b[0m \u001b[0;36m0\u001b[0m\u001b[0;34m\u001b[0m\u001b[0;34m\u001b[0m\u001b[0m\n\u001b[1;32m     13\u001b[0m     \u001b[0;32mif\u001b[0m \u001b[0mrespiratory_rate\u001b[0m \u001b[0;34m<=\u001b[0m \u001b[0;36m0\u001b[0m \u001b[0;34m:\u001b[0m\u001b[0;34m\u001b[0m\u001b[0;34m\u001b[0m\u001b[0m\n\u001b[0;32m---> 14\u001b[0;31m         \u001b[0;32mraise\u001b[0m \u001b[0mValueError\u001b[0m \u001b[0;34m(\u001b[0m\u001b[0;34m\"invalid respiratory rate\"\u001b[0m\u001b[0;34m)\u001b[0m\u001b[0;34m\u001b[0m\u001b[0;34m\u001b[0m\u001b[0m\n\u001b[0m\u001b[1;32m     15\u001b[0m     \u001b[0;32mif\u001b[0m \u001b[0mrespiratory_rate\u001b[0m \u001b[0;34m>=\u001b[0m \u001b[0;36m23\u001b[0m \u001b[0;32mand\u001b[0m \u001b[0mrespiratory_rate\u001b[0m \u001b[0;34m<=\u001b[0m\u001b[0;36m28\u001b[0m \u001b[0;34m:\u001b[0m\u001b[0;34m\u001b[0m\u001b[0;34m\u001b[0m\u001b[0m\n\u001b[1;32m     16\u001b[0m         \u001b[0mresp_score\u001b[0m \u001b[0;34m=\u001b[0m \u001b[0;36m1\u001b[0m\u001b[0;34m\u001b[0m\u001b[0;34m\u001b[0m\u001b[0m\n",
            "\u001b[0;31mValueError\u001b[0m: invalid respiratory rate"
          ]
        }
      ],
      "source": [
        "qcsi(-24, 2, 1000)"
      ]
    }
  ],
  "metadata": {
    "language_info": {
      "name": "python"
    },
    "colab": {
      "provenance": [],
      "include_colab_link": true
    },
    "kernelspec": {
      "name": "python3",
      "display_name": "Python 3"
    }
  },
  "nbformat": 4,
  "nbformat_minor": 0
}