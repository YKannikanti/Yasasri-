{
  "cells": [
    {
      "cell_type": "markdown",
      "metadata": {
        "id": "view-in-github",
        "colab_type": "text"
      },
      "source": [
        "<a href=\"https://colab.research.google.com/github/YKannikanti/Yasasri-/blob/main/Copy_of_week04_inclass_dictionary.ipynb\" target=\"_parent\"><img src=\"https://colab.research.google.com/assets/colab-badge.svg\" alt=\"Open In Colab\"/></a>"
      ]
    },
    {
      "cell_type": "markdown",
      "metadata": {
        "id": "MwrMaZR-2eYc"
      },
      "source": [
        "Design a dictionary data structure for the following scenario:\n",
        "\n",
        "In this data structure, we’re dealing with families that might have multiple people.\n",
        "Each family has a family name that is unique\n",
        "Each family has a list of family members in it\n",
        "Each family member has a first name, a last name, and and age\n",
        "\n",
        "Create a dictionary for four fictitious families each with at least three family members, then compute and output the average age for each family.\n",
        "\n",
        "What data types do we need for each requirement?"
      ]
    },
    {
      "cell_type": "code",
      "execution_count": null,
      "metadata": {
        "id": "YnNRzwlq2eYk",
        "outputId": "1c6a8d3d-5981-484d-8034-039837dde572",
        "colab": {
          "base_uri": "https://localhost:8080/"
        }
      },
      "outputs": [
        {
          "output_type": "stream",
          "name": "stdout",
          "text": [
            "The average age for lockwood is 30.0\n",
            "The average age for waller is 33.333333333333336\n",
            "The average age for Anderson is 33.333333333333336\n"
          ]
        }
      ],
      "source": [
        "\n",
        "### START SOLUTION\n",
        "families = {\n",
        "    \"lockwood\" : [\n",
        "        {\"First\" : \"Peter\", \"last\" : \"Lockwood\", \"age\":40},\n",
        "        {\"First\" :\"Jack\", \"last\" :\"Lockwood\", \"age\":30},\n",
        "        {\"First\" :\"linda\", \"last\" :\"Lockwood\", \"age\":20}\n",
        "    ],\n",
        "    \"waller\" : [\n",
        "        {\"First\" :\"Linda\",\"last\":\"Waller\", \"age\":50},\n",
        "        {\"first\" :\"rubi\" ,\"last\":\"Waller\", \"age\":30},\n",
        "        {\"first\" :\"lisa\" ,\"last\":\"Waller\", \"age\":20}\n",
        "    ],\n",
        "    \"Anderson\" : [\n",
        "        {\"First\" :\"Bob\",\"last\":\"Anderson\", \"age\": 50},\n",
        "        {\"First\" :\"tessa\",\"last\":\"Anderson\", \"age\": 30},\n",
        "        {\"First\" :\"Brain\",\"last\":\"Anderson\", \"age\": 20}\n",
        "    ],}\n",
        "\n",
        "for family_name, family_members in families.items():\n",
        "     total_age = 0\n",
        "     for family_member in family_members:\n",
        "        total_age =total_age+ int(family_member[\"age\"])\n",
        "     average_age = total_age / len(family_members)\n",
        "     print(f\"The average age for {family_name} is {average_age}\")\n",
        "\n",
        "### END SOLUTION"
      ]
    }
  ],
  "metadata": {
    "language_info": {
      "name": "python"
    },
    "colab": {
      "provenance": [],
      "include_colab_link": true
    },
    "kernelspec": {
      "name": "python3",
      "display_name": "Python 3"
    }
  },
  "nbformat": 4,
  "nbformat_minor": 0
}